{
 "cells": [
  {
   "cell_type": "code",
   "execution_count": 6,
   "id": "d3c5b196-f4cc-4a5a-aec3-d660b9dd08f3",
   "metadata": {},
   "outputs": [
    {
     "data": {
      "text/html": [
       "<div>\n",
       "<style scoped>\n",
       "    .dataframe tbody tr th:only-of-type {\n",
       "        vertical-align: middle;\n",
       "    }\n",
       "\n",
       "    .dataframe tbody tr th {\n",
       "        vertical-align: top;\n",
       "    }\n",
       "\n",
       "    .dataframe thead th {\n",
       "        text-align: right;\n",
       "    }\n",
       "</style>\n",
       "<table border=\"1\" class=\"dataframe\">\n",
       "  <thead>\n",
       "    <tr style=\"text-align: right;\">\n",
       "      <th></th>\n",
       "      <th>Customer_ID</th>\n",
       "      <th>Age</th>\n",
       "      <th>Gender</th>\n",
       "      <th>Income</th>\n",
       "      <th>Spending_Score</th>\n",
       "      <th>Credit_Score</th>\n",
       "      <th>Loan_Amount</th>\n",
       "      <th>Previous_Defaults</th>\n",
       "      <th>Marketing_Spend</th>\n",
       "      <th>Purchase_Frequency</th>\n",
       "      <th>Seasonality</th>\n",
       "      <th>Sales</th>\n",
       "      <th>Customer_Churn</th>\n",
       "      <th>Defaulted</th>\n",
       "    </tr>\n",
       "  </thead>\n",
       "  <tbody>\n",
       "    <tr>\n",
       "      <th>0</th>\n",
       "      <td>1</td>\n",
       "      <td>56</td>\n",
       "      <td>Female</td>\n",
       "      <td>142418.0</td>\n",
       "      <td>7</td>\n",
       "      <td>391.0</td>\n",
       "      <td>8083.0</td>\n",
       "      <td>1</td>\n",
       "      <td>15376</td>\n",
       "      <td>3</td>\n",
       "      <td>Low</td>\n",
       "      <td>32526</td>\n",
       "      <td>0</td>\n",
       "      <td>0</td>\n",
       "    </tr>\n",
       "    <tr>\n",
       "      <th>1</th>\n",
       "      <td>2</td>\n",
       "      <td>69</td>\n",
       "      <td>Male</td>\n",
       "      <td>63088.0</td>\n",
       "      <td>82</td>\n",
       "      <td>652.0</td>\n",
       "      <td>34328.0</td>\n",
       "      <td>2</td>\n",
       "      <td>6889</td>\n",
       "      <td>6</td>\n",
       "      <td>Low</td>\n",
       "      <td>78493</td>\n",
       "      <td>0</td>\n",
       "      <td>0</td>\n",
       "    </tr>\n",
       "    <tr>\n",
       "      <th>2</th>\n",
       "      <td>3</td>\n",
       "      <td>46</td>\n",
       "      <td>Male</td>\n",
       "      <td>136868.0</td>\n",
       "      <td>91</td>\n",
       "      <td>662.0</td>\n",
       "      <td>47891.0</td>\n",
       "      <td>2</td>\n",
       "      <td>6054</td>\n",
       "      <td>29</td>\n",
       "      <td>Medium</td>\n",
       "      <td>57198</td>\n",
       "      <td>1</td>\n",
       "      <td>0</td>\n",
       "    </tr>\n",
       "    <tr>\n",
       "      <th>3</th>\n",
       "      <td>4</td>\n",
       "      <td>32</td>\n",
       "      <td>Female</td>\n",
       "      <td>NaN</td>\n",
       "      <td>34</td>\n",
       "      <td>644.0</td>\n",
       "      <td>25103.0</td>\n",
       "      <td>2</td>\n",
       "      <td>4868</td>\n",
       "      <td>8</td>\n",
       "      <td>Medium</td>\n",
       "      <td>48395</td>\n",
       "      <td>0</td>\n",
       "      <td>0</td>\n",
       "    </tr>\n",
       "    <tr>\n",
       "      <th>4</th>\n",
       "      <td>5</td>\n",
       "      <td>60</td>\n",
       "      <td>Male</td>\n",
       "      <td>59811.0</td>\n",
       "      <td>91</td>\n",
       "      <td>469.0</td>\n",
       "      <td>44891.0</td>\n",
       "      <td>1</td>\n",
       "      <td>17585</td>\n",
       "      <td>12</td>\n",
       "      <td>High</td>\n",
       "      <td>29031</td>\n",
       "      <td>1</td>\n",
       "      <td>0</td>\n",
       "    </tr>\n",
       "    <tr>\n",
       "      <th>...</th>\n",
       "      <td>...</td>\n",
       "      <td>...</td>\n",
       "      <td>...</td>\n",
       "      <td>...</td>\n",
       "      <td>...</td>\n",
       "      <td>...</td>\n",
       "      <td>...</td>\n",
       "      <td>...</td>\n",
       "      <td>...</td>\n",
       "      <td>...</td>\n",
       "      <td>...</td>\n",
       "      <td>...</td>\n",
       "      <td>...</td>\n",
       "      <td>...</td>\n",
       "    </tr>\n",
       "    <tr>\n",
       "      <th>495</th>\n",
       "      <td>496</td>\n",
       "      <td>65</td>\n",
       "      <td>Male</td>\n",
       "      <td>69688.0</td>\n",
       "      <td>6</td>\n",
       "      <td>602.0</td>\n",
       "      <td>20261.0</td>\n",
       "      <td>2</td>\n",
       "      <td>7420</td>\n",
       "      <td>17</td>\n",
       "      <td>High</td>\n",
       "      <td>43134</td>\n",
       "      <td>0</td>\n",
       "      <td>0</td>\n",
       "    </tr>\n",
       "    <tr>\n",
       "      <th>496</th>\n",
       "      <td>497</td>\n",
       "      <td>42</td>\n",
       "      <td>Female</td>\n",
       "      <td>119929.0</td>\n",
       "      <td>88</td>\n",
       "      <td>610.0</td>\n",
       "      <td>6431.0</td>\n",
       "      <td>2</td>\n",
       "      <td>12837</td>\n",
       "      <td>27</td>\n",
       "      <td>Medium</td>\n",
       "      <td>32323</td>\n",
       "      <td>0</td>\n",
       "      <td>0</td>\n",
       "    </tr>\n",
       "    <tr>\n",
       "      <th>497</th>\n",
       "      <td>498</td>\n",
       "      <td>57</td>\n",
       "      <td>Female</td>\n",
       "      <td>128618.0</td>\n",
       "      <td>19</td>\n",
       "      <td>507.0</td>\n",
       "      <td>14067.0</td>\n",
       "      <td>0</td>\n",
       "      <td>7353</td>\n",
       "      <td>17</td>\n",
       "      <td>Medium</td>\n",
       "      <td>76762</td>\n",
       "      <td>0</td>\n",
       "      <td>1</td>\n",
       "    </tr>\n",
       "    <tr>\n",
       "      <th>498</th>\n",
       "      <td>499</td>\n",
       "      <td>62</td>\n",
       "      <td>Male</td>\n",
       "      <td>93509.0</td>\n",
       "      <td>80</td>\n",
       "      <td>745.0</td>\n",
       "      <td>42481.0</td>\n",
       "      <td>0</td>\n",
       "      <td>11541</td>\n",
       "      <td>12</td>\n",
       "      <td>High</td>\n",
       "      <td>92225</td>\n",
       "      <td>0</td>\n",
       "      <td>0</td>\n",
       "    </tr>\n",
       "    <tr>\n",
       "      <th>499</th>\n",
       "      <td>500</td>\n",
       "      <td>18</td>\n",
       "      <td>Female</td>\n",
       "      <td>28577.0</td>\n",
       "      <td>40</td>\n",
       "      <td>354.0</td>\n",
       "      <td>NaN</td>\n",
       "      <td>1</td>\n",
       "      <td>2932</td>\n",
       "      <td>7</td>\n",
       "      <td>Low</td>\n",
       "      <td>30954</td>\n",
       "      <td>1</td>\n",
       "      <td>0</td>\n",
       "    </tr>\n",
       "  </tbody>\n",
       "</table>\n",
       "<p>500 rows × 14 columns</p>\n",
       "</div>"
      ],
      "text/plain": [
       "     Customer_ID  Age  Gender    Income  Spending_Score  Credit_Score  \\\n",
       "0              1   56  Female  142418.0               7         391.0   \n",
       "1              2   69    Male   63088.0              82         652.0   \n",
       "2              3   46    Male  136868.0              91         662.0   \n",
       "3              4   32  Female       NaN              34         644.0   \n",
       "4              5   60    Male   59811.0              91         469.0   \n",
       "..           ...  ...     ...       ...             ...           ...   \n",
       "495          496   65    Male   69688.0               6         602.0   \n",
       "496          497   42  Female  119929.0              88         610.0   \n",
       "497          498   57  Female  128618.0              19         507.0   \n",
       "498          499   62    Male   93509.0              80         745.0   \n",
       "499          500   18  Female   28577.0              40         354.0   \n",
       "\n",
       "     Loan_Amount  Previous_Defaults  Marketing_Spend  Purchase_Frequency  \\\n",
       "0         8083.0                  1            15376                   3   \n",
       "1        34328.0                  2             6889                   6   \n",
       "2        47891.0                  2             6054                  29   \n",
       "3        25103.0                  2             4868                   8   \n",
       "4        44891.0                  1            17585                  12   \n",
       "..           ...                ...              ...                 ...   \n",
       "495      20261.0                  2             7420                  17   \n",
       "496       6431.0                  2            12837                  27   \n",
       "497      14067.0                  0             7353                  17   \n",
       "498      42481.0                  0            11541                  12   \n",
       "499          NaN                  1             2932                   7   \n",
       "\n",
       "    Seasonality  Sales  Customer_Churn  Defaulted  \n",
       "0           Low  32526               0          0  \n",
       "1           Low  78493               0          0  \n",
       "2        Medium  57198               1          0  \n",
       "3        Medium  48395               0          0  \n",
       "4          High  29031               1          0  \n",
       "..          ...    ...             ...        ...  \n",
       "495        High  43134               0          0  \n",
       "496      Medium  32323               0          0  \n",
       "497      Medium  76762               0          1  \n",
       "498        High  92225               0          0  \n",
       "499         Low  30954               1          0  \n",
       "\n",
       "[500 rows x 14 columns]"
      ]
     },
     "execution_count": 6,
     "metadata": {},
     "output_type": "execute_result"
    }
   ],
   "source": [
    "import pandas as pd\n",
    "\n",
    "risk_analysis = pd.read_csv(r\"C:\\Users\\hp\\OneDrive\\Projects\\Victoria Solutions\\raw_dataset_week4.csv\")\n",
    "risk_analysis"
   ]
  },
  {
   "cell_type": "code",
   "execution_count": null,
   "id": "70c91360-22ad-4442-ad39-9509b9e35fea",
   "metadata": {},
   "outputs": [],
   "source": []
  },
  {
   "cell_type": "raw",
   "id": "0c6c99a5-e211-404a-a0ea-295c50eb2dfb",
   "metadata": {},
   "source": [
    "TASK 1: Data Preprocessing and Cleaning\n",
    "# Handling missing values using appropriate imputation techniques(mean)."
   ]
  },
  {
   "cell_type": "code",
   "execution_count": 7,
   "id": "50a10aee-c4a4-41b1-b8e6-bb4f126743d6",
   "metadata": {},
   "outputs": [
    {
     "name": "stdout",
     "output_type": "stream",
     "text": [
      "Customer_ID            0\n",
      "Age                    0\n",
      "Gender                 0\n",
      "Income                50\n",
      "Spending_Score         0\n",
      "Credit_Score          50\n",
      "Loan_Amount           50\n",
      "Previous_Defaults      0\n",
      "Marketing_Spend        0\n",
      "Purchase_Frequency     0\n",
      "Seasonality            0\n",
      "Sales                  0\n",
      "Customer_Churn         0\n",
      "Defaulted              0\n",
      "dtype: int64\n"
     ]
    }
   ],
   "source": [
    "print(risk_analysis.isnull().sum())"
   ]
  },
  {
   "cell_type": "code",
   "execution_count": null,
   "id": "b4070a80-8be4-476b-b06d-0f6b6e4fdbff",
   "metadata": {},
   "outputs": [],
   "source": []
  },
  {
   "cell_type": "raw",
   "id": "7fd7b1ca-efa6-4e1c-8cda-0a7cd0d76568",
   "metadata": {},
   "source": [
    "# Filling all missing values in numeric columns with their respective means"
   ]
  },
  {
   "cell_type": "code",
   "execution_count": 25,
   "id": "fd9b1869-f3f9-4e51-ba09-66d1a0e4f7a5",
   "metadata": {},
   "outputs": [
    {
     "name": "stdout",
     "output_type": "stream",
     "text": [
      "Customer_ID            0\n",
      "Age                    0\n",
      "Gender                 0\n",
      "Income                 0\n",
      "Spending_Score         0\n",
      "Credit_Score           0\n",
      "Loan_Amount            0\n",
      "Previous_Defaults      0\n",
      "Marketing_Spend        0\n",
      "Purchase_Frequency     0\n",
      "Seasonality            0\n",
      "Sales                  0\n",
      "Customer_Churn         0\n",
      "Defaulted              0\n",
      "Age_Group             12\n",
      "dtype: int64\n"
     ]
    }
   ],
   "source": [
    "import pandas as pd\n",
    "risk_analysis = risk_analysis.fillna(risk_analysis.mean(numeric_only=True)).round()\n",
    "print(risk_analysis.isnull().sum())"
   ]
  },
  {
   "cell_type": "code",
   "execution_count": null,
   "id": "c53e0466-383d-4f57-80e5-5f4d016d7a03",
   "metadata": {},
   "outputs": [],
   "source": []
  },
  {
   "cell_type": "code",
   "execution_count": 10,
   "id": "61d9800e-7293-47ef-b345-0218be81a5cc",
   "metadata": {},
   "outputs": [],
   "source": [
    "import pandas as pd\n",
    "risk_analysis.to_excel(r\"C:\\Users\\hp\\OneDrive\\Projects\\Victoria Solutions\\raw_dataset_week4.xlsx\", index=False)"
   ]
  },
  {
   "cell_type": "code",
   "execution_count": 11,
   "id": "df35bd3c-5918-40ba-877f-09831c9c03b1",
   "metadata": {},
   "outputs": [
    {
     "name": "stdout",
     "output_type": "stream",
     "text": [
      "File successfully created!\n"
     ]
    }
   ],
   "source": [
    "# After saving, verifying the file was created correctly\n",
    "import os\n",
    "file_path = r\"C:\\Users\\hp\\OneDrive\\Projects\\Victoria Solutions\\raw_dataset_week4.xlsx\"\n",
    "if os.path.exists(file_path):\n",
    "    print(\"File successfully created!\")"
   ]
  },
  {
   "cell_type": "code",
   "execution_count": null,
   "id": "9d013973-b588-45a3-bbc0-65cab343d85d",
   "metadata": {},
   "outputs": [],
   "source": []
  },
  {
   "cell_type": "code",
   "execution_count": 12,
   "id": "71a8c289-0d4a-4678-9322-695614d5cab5",
   "metadata": {},
   "outputs": [
    {
     "data": {
      "text/html": [
       "<div>\n",
       "<style scoped>\n",
       "    .dataframe tbody tr th:only-of-type {\n",
       "        vertical-align: middle;\n",
       "    }\n",
       "\n",
       "    .dataframe tbody tr th {\n",
       "        vertical-align: top;\n",
       "    }\n",
       "\n",
       "    .dataframe thead th {\n",
       "        text-align: right;\n",
       "    }\n",
       "</style>\n",
       "<table border=\"1\" class=\"dataframe\">\n",
       "  <thead>\n",
       "    <tr style=\"text-align: right;\">\n",
       "      <th></th>\n",
       "      <th>Customer_ID</th>\n",
       "      <th>Age</th>\n",
       "      <th>Gender</th>\n",
       "      <th>Income</th>\n",
       "      <th>Spending_Score</th>\n",
       "      <th>Credit_Score</th>\n",
       "      <th>Loan_Amount</th>\n",
       "      <th>Previous_Defaults</th>\n",
       "      <th>Marketing_Spend</th>\n",
       "      <th>Purchase_Frequency</th>\n",
       "      <th>Seasonality</th>\n",
       "      <th>Sales</th>\n",
       "      <th>Customer_Churn</th>\n",
       "      <th>Defaulted</th>\n",
       "    </tr>\n",
       "  </thead>\n",
       "  <tbody>\n",
       "    <tr>\n",
       "      <th>0</th>\n",
       "      <td>1</td>\n",
       "      <td>56</td>\n",
       "      <td>Female</td>\n",
       "      <td>142418.0</td>\n",
       "      <td>7</td>\n",
       "      <td>391.0</td>\n",
       "      <td>8083.0</td>\n",
       "      <td>1</td>\n",
       "      <td>15376</td>\n",
       "      <td>3</td>\n",
       "      <td>Low</td>\n",
       "      <td>32526</td>\n",
       "      <td>0</td>\n",
       "      <td>0</td>\n",
       "    </tr>\n",
       "    <tr>\n",
       "      <th>1</th>\n",
       "      <td>2</td>\n",
       "      <td>69</td>\n",
       "      <td>Male</td>\n",
       "      <td>63088.0</td>\n",
       "      <td>82</td>\n",
       "      <td>652.0</td>\n",
       "      <td>34328.0</td>\n",
       "      <td>2</td>\n",
       "      <td>6889</td>\n",
       "      <td>6</td>\n",
       "      <td>Low</td>\n",
       "      <td>78493</td>\n",
       "      <td>0</td>\n",
       "      <td>0</td>\n",
       "    </tr>\n",
       "    <tr>\n",
       "      <th>2</th>\n",
       "      <td>3</td>\n",
       "      <td>46</td>\n",
       "      <td>Male</td>\n",
       "      <td>136868.0</td>\n",
       "      <td>91</td>\n",
       "      <td>662.0</td>\n",
       "      <td>47891.0</td>\n",
       "      <td>2</td>\n",
       "      <td>6054</td>\n",
       "      <td>29</td>\n",
       "      <td>Medium</td>\n",
       "      <td>57198</td>\n",
       "      <td>1</td>\n",
       "      <td>0</td>\n",
       "    </tr>\n",
       "    <tr>\n",
       "      <th>3</th>\n",
       "      <td>4</td>\n",
       "      <td>32</td>\n",
       "      <td>Female</td>\n",
       "      <td>NaN</td>\n",
       "      <td>34</td>\n",
       "      <td>644.0</td>\n",
       "      <td>25103.0</td>\n",
       "      <td>2</td>\n",
       "      <td>4868</td>\n",
       "      <td>8</td>\n",
       "      <td>Medium</td>\n",
       "      <td>48395</td>\n",
       "      <td>0</td>\n",
       "      <td>0</td>\n",
       "    </tr>\n",
       "    <tr>\n",
       "      <th>4</th>\n",
       "      <td>5</td>\n",
       "      <td>60</td>\n",
       "      <td>Male</td>\n",
       "      <td>59811.0</td>\n",
       "      <td>91</td>\n",
       "      <td>469.0</td>\n",
       "      <td>44891.0</td>\n",
       "      <td>1</td>\n",
       "      <td>17585</td>\n",
       "      <td>12</td>\n",
       "      <td>High</td>\n",
       "      <td>29031</td>\n",
       "      <td>1</td>\n",
       "      <td>0</td>\n",
       "    </tr>\n",
       "    <tr>\n",
       "      <th>...</th>\n",
       "      <td>...</td>\n",
       "      <td>...</td>\n",
       "      <td>...</td>\n",
       "      <td>...</td>\n",
       "      <td>...</td>\n",
       "      <td>...</td>\n",
       "      <td>...</td>\n",
       "      <td>...</td>\n",
       "      <td>...</td>\n",
       "      <td>...</td>\n",
       "      <td>...</td>\n",
       "      <td>...</td>\n",
       "      <td>...</td>\n",
       "      <td>...</td>\n",
       "    </tr>\n",
       "    <tr>\n",
       "      <th>495</th>\n",
       "      <td>496</td>\n",
       "      <td>65</td>\n",
       "      <td>Male</td>\n",
       "      <td>69688.0</td>\n",
       "      <td>6</td>\n",
       "      <td>602.0</td>\n",
       "      <td>20261.0</td>\n",
       "      <td>2</td>\n",
       "      <td>7420</td>\n",
       "      <td>17</td>\n",
       "      <td>High</td>\n",
       "      <td>43134</td>\n",
       "      <td>0</td>\n",
       "      <td>0</td>\n",
       "    </tr>\n",
       "    <tr>\n",
       "      <th>496</th>\n",
       "      <td>497</td>\n",
       "      <td>42</td>\n",
       "      <td>Female</td>\n",
       "      <td>119929.0</td>\n",
       "      <td>88</td>\n",
       "      <td>610.0</td>\n",
       "      <td>6431.0</td>\n",
       "      <td>2</td>\n",
       "      <td>12837</td>\n",
       "      <td>27</td>\n",
       "      <td>Medium</td>\n",
       "      <td>32323</td>\n",
       "      <td>0</td>\n",
       "      <td>0</td>\n",
       "    </tr>\n",
       "    <tr>\n",
       "      <th>497</th>\n",
       "      <td>498</td>\n",
       "      <td>57</td>\n",
       "      <td>Female</td>\n",
       "      <td>128618.0</td>\n",
       "      <td>19</td>\n",
       "      <td>507.0</td>\n",
       "      <td>14067.0</td>\n",
       "      <td>0</td>\n",
       "      <td>7353</td>\n",
       "      <td>17</td>\n",
       "      <td>Medium</td>\n",
       "      <td>76762</td>\n",
       "      <td>0</td>\n",
       "      <td>1</td>\n",
       "    </tr>\n",
       "    <tr>\n",
       "      <th>498</th>\n",
       "      <td>499</td>\n",
       "      <td>62</td>\n",
       "      <td>Male</td>\n",
       "      <td>93509.0</td>\n",
       "      <td>80</td>\n",
       "      <td>745.0</td>\n",
       "      <td>42481.0</td>\n",
       "      <td>0</td>\n",
       "      <td>11541</td>\n",
       "      <td>12</td>\n",
       "      <td>High</td>\n",
       "      <td>92225</td>\n",
       "      <td>0</td>\n",
       "      <td>0</td>\n",
       "    </tr>\n",
       "    <tr>\n",
       "      <th>499</th>\n",
       "      <td>500</td>\n",
       "      <td>18</td>\n",
       "      <td>Female</td>\n",
       "      <td>28577.0</td>\n",
       "      <td>40</td>\n",
       "      <td>354.0</td>\n",
       "      <td>NaN</td>\n",
       "      <td>1</td>\n",
       "      <td>2932</td>\n",
       "      <td>7</td>\n",
       "      <td>Low</td>\n",
       "      <td>30954</td>\n",
       "      <td>1</td>\n",
       "      <td>0</td>\n",
       "    </tr>\n",
       "  </tbody>\n",
       "</table>\n",
       "<p>500 rows × 14 columns</p>\n",
       "</div>"
      ],
      "text/plain": [
       "     Customer_ID  Age  Gender    Income  Spending_Score  Credit_Score  \\\n",
       "0              1   56  Female  142418.0               7         391.0   \n",
       "1              2   69    Male   63088.0              82         652.0   \n",
       "2              3   46    Male  136868.0              91         662.0   \n",
       "3              4   32  Female       NaN              34         644.0   \n",
       "4              5   60    Male   59811.0              91         469.0   \n",
       "..           ...  ...     ...       ...             ...           ...   \n",
       "495          496   65    Male   69688.0               6         602.0   \n",
       "496          497   42  Female  119929.0              88         610.0   \n",
       "497          498   57  Female  128618.0              19         507.0   \n",
       "498          499   62    Male   93509.0              80         745.0   \n",
       "499          500   18  Female   28577.0              40         354.0   \n",
       "\n",
       "     Loan_Amount  Previous_Defaults  Marketing_Spend  Purchase_Frequency  \\\n",
       "0         8083.0                  1            15376                   3   \n",
       "1        34328.0                  2             6889                   6   \n",
       "2        47891.0                  2             6054                  29   \n",
       "3        25103.0                  2             4868                   8   \n",
       "4        44891.0                  1            17585                  12   \n",
       "..           ...                ...              ...                 ...   \n",
       "495      20261.0                  2             7420                  17   \n",
       "496       6431.0                  2            12837                  27   \n",
       "497      14067.0                  0             7353                  17   \n",
       "498      42481.0                  0            11541                  12   \n",
       "499          NaN                  1             2932                   7   \n",
       "\n",
       "    Seasonality  Sales  Customer_Churn  Defaulted  \n",
       "0           Low  32526               0          0  \n",
       "1           Low  78493               0          0  \n",
       "2        Medium  57198               1          0  \n",
       "3        Medium  48395               0          0  \n",
       "4          High  29031               1          0  \n",
       "..          ...    ...             ...        ...  \n",
       "495        High  43134               0          0  \n",
       "496      Medium  32323               0          0  \n",
       "497      Medium  76762               0          1  \n",
       "498        High  92225               0          0  \n",
       "499         Low  30954               1          0  \n",
       "\n",
       "[500 rows x 14 columns]"
      ]
     },
     "execution_count": 12,
     "metadata": {},
     "output_type": "execute_result"
    }
   ],
   "source": [
    "risk_analysis = pd.read_csv(r\"C:\\Users\\hp\\OneDrive\\Projects\\Victoria Solutions\\raw_dataset_week4.csv\")\n",
    "risk_analysis"
   ]
  },
  {
   "cell_type": "code",
   "execution_count": null,
   "id": "726379e6-4ca0-4045-8b82-60b70b3f7dac",
   "metadata": {},
   "outputs": [],
   "source": []
  },
  {
   "cell_type": "raw",
   "id": "547ce828-5c7a-4d49-b8e3-b230491195f6",
   "metadata": {},
   "source": [
    "# IDENTIFYING DEFAULTERS"
   ]
  },
  {
   "cell_type": "code",
   "execution_count": 13,
   "id": "104ea23a-db2c-4675-b048-4b8ba85ae542",
   "metadata": {},
   "outputs": [
    {
     "name": "stdout",
     "output_type": "stream",
     "text": [
      "Number of defaulters: 95\n"
     ]
    }
   ],
   "source": [
    "import pandas as pd\n",
    "\n",
    "defaulters_risk_analysis = risk_analysis[risk_analysis['Defaulted'] == 1][['Customer_ID', 'Age', 'Income', 'Credit_Score', 'Previous_Defaults', 'Loan_Amount', 'Defaulted']]\n",
    "print(f\"Number of defaulters: {len(defaulters_risk_analysis)}\")"
   ]
  },
  {
   "cell_type": "code",
   "execution_count": null,
   "id": "46b7d071-09b1-4fbe-9aa9-74fdfd2e8733",
   "metadata": {},
   "outputs": [],
   "source": []
  },
  {
   "cell_type": "code",
   "execution_count": null,
   "id": "1b7e72f4-0975-476e-ada1-169d301cd543",
   "metadata": {},
   "outputs": [],
   "source": [
    "# Addressing missing values in the defaulters dataframe"
   ]
  },
  {
   "cell_type": "code",
   "execution_count": 26,
   "id": "46f69252-0df1-444c-b14c-6b5effe5da41",
   "metadata": {},
   "outputs": [
    {
     "name": "stdout",
     "output_type": "stream",
     "text": [
      "Customer_ID           0\n",
      "Age                   0\n",
      "Income                8\n",
      "Credit_Score         14\n",
      "Previous_Defaults     0\n",
      "Loan_Amount           8\n",
      "Defaulted             0\n",
      "dtype: int64\n"
     ]
    }
   ],
   "source": [
    "print(defaulters_risk_analysis.isnull().sum())"
   ]
  },
  {
   "cell_type": "code",
   "execution_count": 27,
   "id": "e97b7302-49b9-47b0-96a6-10234fec9ddb",
   "metadata": {},
   "outputs": [
    {
     "name": "stdout",
     "output_type": "stream",
     "text": [
      "Customer_ID          0\n",
      "Age                  0\n",
      "Income               0\n",
      "Credit_Score         0\n",
      "Previous_Defaults    0\n",
      "Loan_Amount          0\n",
      "Defaulted            0\n",
      "dtype: int64\n"
     ]
    }
   ],
   "source": [
    "defaulters_risk_analysis = defaulters_risk_analysis.fillna(defaulters_risk_analysis.mean(numeric_only=True)).round()\n",
    "print(defaulters_risk_analysis.isnull().sum())"
   ]
  },
  {
   "cell_type": "code",
   "execution_count": null,
   "id": "2c9122e8-bb19-4b5e-b767-6b0096fd4cc4",
   "metadata": {},
   "outputs": [],
   "source": []
  },
  {
   "cell_type": "code",
   "execution_count": null,
   "id": "8a6d79c3-cf96-48c4-a26e-637dc7924543",
   "metadata": {},
   "outputs": [],
   "source": [
    "# Creating and saving defaulters tables in Excel"
   ]
  },
  {
   "cell_type": "code",
   "execution_count": 71,
   "id": "e6624bdb-10e8-41c8-ad9c-9b86654ed366",
   "metadata": {},
   "outputs": [],
   "source": [
    "import pandas as pd\n",
    "\n",
    "defaulters_risk_analysis.to_excel(\"C:\\\\Users\\\\hp\\\\OneDrive\\\\Projects\\\\Victoria Solutions\\\\defaulters_risk_analysis.xlsx\", index=False)"
   ]
  },
  {
   "cell_type": "code",
   "execution_count": 28,
   "id": "f8caf112-833d-4307-bfd1-5ba97df9b89d",
   "metadata": {},
   "outputs": [
    {
     "name": "stdout",
     "output_type": "stream",
     "text": [
      "File successfully created!\n"
     ]
    }
   ],
   "source": [
    "import os\n",
    "file_path = \"C:\\\\Users\\\\hp\\\\OneDrive\\\\Projects\\\\Victoria Solutions\\\\defaulters_risk_analysis.xlsx\"\n",
    "if os.path.exists(file_path):\n",
    "    print(\"File successfully created!\")"
   ]
  },
  {
   "cell_type": "code",
   "execution_count": null,
   "id": "8b7e4696-a49a-4fdb-951f-14e2de95ca8d",
   "metadata": {},
   "outputs": [],
   "source": []
  },
  {
   "cell_type": "code",
   "execution_count": 14,
   "id": "25779916-b844-4686-a825-90efd852471a",
   "metadata": {},
   "outputs": [
    {
     "name": "stdout",
     "output_type": "stream",
     "text": [
      "     Customer_ID  Age    Income  Credit_Score  Previous_Defaults  Loan_Amount  \\\n",
      "6              7   38   75479.0         490.0                  1      39447.0   \n",
      "9             10   40  137520.0         432.0                  0      12446.0   \n",
      "11            12   28   75123.0         834.0                  1          NaN   \n",
      "12            13   41  145911.0         725.0                  0      31116.0   \n",
      "16            17   20   34388.0         381.0                  1      21669.0   \n",
      "..           ...  ...       ...           ...                ...          ...   \n",
      "486          487   43   77545.0         653.0                  2      18493.0   \n",
      "490          491   18  117945.0         741.0                  1      12736.0   \n",
      "491          492   18   33224.0         847.0                  0      12710.0   \n",
      "492          493   64   60738.0         752.0                  2       6619.0   \n",
      "497          498   57  128618.0         507.0                  0      14067.0   \n",
      "\n",
      "     Defaulted  \n",
      "6            1  \n",
      "9            1  \n",
      "11           1  \n",
      "12           1  \n",
      "16           1  \n",
      "..         ...  \n",
      "486          1  \n",
      "490          1  \n",
      "491          1  \n",
      "492          1  \n",
      "497          1  \n",
      "\n",
      "[95 rows x 7 columns]\n"
     ]
    }
   ],
   "source": [
    "print(defaulters_risk_analysis)"
   ]
  },
  {
   "cell_type": "raw",
   "id": "6b3b8c74-6271-4189-a8c8-4da054d097ac",
   "metadata": {},
   "source": [
    "# Creating age groups: \n",
    "# Grouping ages into logical, non-discriminatory bins"
   ]
  },
  {
   "cell_type": "code",
   "execution_count": 19,
   "id": "99edf25b-2585-4268-851b-b3145bb17606",
   "metadata": {},
   "outputs": [],
   "source": [
    "age_bins = [18, 25, 35, 50, 65, 100]\n",
    "age_labels = ['18-25', '26-35', '36-50', '51-65', '66+']\n",
    "risk_analysis['Age_Group'] = pd.cut(risk_analysis['Age'], bins=age_bins, labels=age_labels)\n"
   ]
  },
  {
   "cell_type": "code",
   "execution_count": null,
   "id": "76c7d225-a5b8-4266-ac05-fa2743b1ef5c",
   "metadata": {},
   "outputs": [],
   "source": []
  },
  {
   "cell_type": "raw",
   "id": "1e7aa4e8-b7ec-4d87-a3b3-43e991443b9b",
   "metadata": {},
   "source": [
    "# Training a model to Predict Loan Defaulters"
   ]
  },
  {
   "cell_type": "code",
   "execution_count": 29,
   "id": "0a28ad55-09bb-4a01-a763-a68cc37c8a8c",
   "metadata": {},
   "outputs": [
    {
     "name": "stdout",
     "output_type": "stream",
     "text": [
      "Training features shape: (400, 8)\n",
      "Testing features shape: (100, 8)\n",
      "Training target shape: (400,)\n",
      "Testing target shape: (100,)\n",
      "\n",
      "First few rows of X_train:\n",
      "       Income  Credit_Score  Loan_Amount  Previous_Defaults  Age_Group_26-35  \\\n",
      "249  136714.0         723.0      28457.0                  0            False   \n",
      "433   37368.0         592.0      38598.0                  1            False   \n",
      "19   124573.0         823.0      25421.0                  0            False   \n",
      "322  145329.0         726.0       8754.0                  0            False   \n",
      "332   91520.0         352.0      10926.0                  0            False   \n",
      "\n",
      "     Age_Group_36-50  Age_Group_51-65  Age_Group_66+  \n",
      "249            False            False           True  \n",
      "433            False            False          False  \n",
      "19              True            False          False  \n",
      "322             True            False          False  \n",
      "332            False             True          False  \n"
     ]
    }
   ],
   "source": [
    "feature_columns = ['Age_Group', 'Income', 'Credit_Score', 'Loan_Amount', 'Previous_Defaults'] \n",
    "X = risk_analysis[feature_columns]\n",
    "y = risk_analysis['Defaulted']\n",
    "\n",
    "X = pd.get_dummies(X, columns=['Age_Group'], drop_first=True)\n",
    "\n",
    "from sklearn.model_selection import train_test_split\n",
    "X_train, X_test, y_train, y_test = train_test_split(X, y, test_size=0.2, random_state=42)\n",
    "\n",
    "\n",
    "print(\"Training features shape:\", X_train.shape)\n",
    "print(\"Testing features shape:\", X_test.shape)\n",
    "print(\"Training target shape:\", y_train.shape)\n",
    "print(\"Testing target shape:\", y_test.shape)\n",
    "print(\"\\nFirst few rows of X_train:\")\n",
    "print(X_train.head())\n"
   ]
  },
  {
   "cell_type": "code",
   "execution_count": null,
   "id": "5ad41075-c414-47d0-ab99-031586111acd",
   "metadata": {},
   "outputs": [],
   "source": []
  },
  {
   "cell_type": "code",
   "execution_count": 31,
   "id": "843fa542-a304-4682-9128-897b6a89d47a",
   "metadata": {},
   "outputs": [
    {
     "name": "stdout",
     "output_type": "stream",
     "text": [
      "Model Accuracy: 82.00%\n"
     ]
    }
   ],
   "source": [
    "# 1. Choose a model (Let's start with LogisticRegression)\n",
    "from sklearn.linear_model import LogisticRegression\n",
    "\n",
    "# 2. Create the model\n",
    "model = LogisticRegression(random_state=42, max_iter=1000)\n",
    "\n",
    "# 3. Train the model on the STUDY GROUP (the training data)\n",
    "model.fit(X_train, y_train)\n",
    "\n",
    "# 4. See how well the model performs on the EXAM (the testing data)\n",
    "accuracy = model.score(X_test, y_test)\n",
    "print(f\"Model Accuracy: {accuracy:.2%}\") "
   ]
  },
  {
   "cell_type": "raw",
   "id": "74b05869-71ce-4d09-a729-dd9759510e99",
   "metadata": {},
   "source": [
    "# 82% accuracy means the model is correctly predicting whether a customer will default or not 82 times out of 100 on unseen data."
   ]
  },
  {
   "cell_type": "code",
   "execution_count": null,
   "id": "e42182ee-fdaf-4d91-890d-6302468e3e43",
   "metadata": {},
   "outputs": [],
   "source": []
  },
  {
   "cell_type": "code",
   "execution_count": null,
   "id": "559a2329-0c90-4d37-83ab-f6ad48243ffa",
   "metadata": {},
   "outputs": [],
   "source": [
    "# Generating a Classification Report and Confusion Matrix:"
   ]
  },
  {
   "cell_type": "code",
   "execution_count": 33,
   "id": "9688046b-b0d0-4284-afbf-3a81a303a285",
   "metadata": {},
   "outputs": [
    {
     "name": "stdout",
     "output_type": "stream",
     "text": [
      "Classification Report:\n",
      "              precision    recall  f1-score   support\n",
      "\n",
      "           0       0.82      1.00      0.90        82\n",
      "           1       0.00      0.00      0.00        18\n",
      "\n",
      "    accuracy                           0.82       100\n",
      "   macro avg       0.41      0.50      0.45       100\n",
      "weighted avg       0.67      0.82      0.74       100\n",
      "\n",
      "\n",
      "Confusion Matrix:\n"
     ]
    },
    {
     "name": "stderr",
     "output_type": "stream",
     "text": [
      "C:\\Users\\hp\\anaconda3\\Lib\\site-packages\\sklearn\\metrics\\_classification.py:1565: UndefinedMetricWarning: Precision is ill-defined and being set to 0.0 in labels with no predicted samples. Use `zero_division` parameter to control this behavior.\n",
      "  _warn_prf(average, modifier, f\"{metric.capitalize()} is\", len(result))\n",
      "C:\\Users\\hp\\anaconda3\\Lib\\site-packages\\sklearn\\metrics\\_classification.py:1565: UndefinedMetricWarning: Precision is ill-defined and being set to 0.0 in labels with no predicted samples. Use `zero_division` parameter to control this behavior.\n",
      "  _warn_prf(average, modifier, f\"{metric.capitalize()} is\", len(result))\n",
      "C:\\Users\\hp\\anaconda3\\Lib\\site-packages\\sklearn\\metrics\\_classification.py:1565: UndefinedMetricWarning: Precision is ill-defined and being set to 0.0 in labels with no predicted samples. Use `zero_division` parameter to control this behavior.\n",
      "  _warn_prf(average, modifier, f\"{metric.capitalize()} is\", len(result))\n"
     ]
    },
    {
     "data": {
      "image/png": "[encoded data removed]",
      "text/plain": [
       "<Figure size 640x480 with 2 Axes>"
      ]
     },
     "metadata": {},
     "output_type": "display_data"
    }
   ],
   "source": [
    "import matplotlib.pyplot as plt\n",
    "from sklearn.metrics import classification_report, confusion_matrix, ConfusionMatrixDisplay\n",
    "\n",
    "# 1. Make predictions on the test set\n",
    "y_pred = model.predict(X_test)\n",
    "\n",
    "# 2. Print a detailed classification report\n",
    "print(\"Classification Report:\")\n",
    "print(classification_report(y_test, y_pred))\n",
    "\n",
    "# 3. Create and plot a confusion matrix\n",
    "print(\"\\nConfusion Matrix:\")\n",
    "cm = confusion_matrix(y_test, y_pred)\n",
    "disp = ConfusionMatrixDisplay(confusion_matrix=cm)\n",
    "disp.plot()\n",
    "plt.show()\n"
   ]
  },
  {
   "cell_type": "code",
   "execution_count": null,
   "id": "1b1a60db-fe2d-4ddb-8e01-e0da604b850a",
   "metadata": {},
   "outputs": [],
   "source": []
  },
  {
   "cell_type": "code",
   "execution_count": 34,
   "id": "a085f946-28fe-4cac-a655-709560f8723d",
   "metadata": {},
   "outputs": [
    {
     "name": "stdout",
     "output_type": "stream",
     "text": [
      "Actual class distribution in y_test:\n",
      "Defaulted\n",
      "0    82\n",
      "1    18\n",
      "Name: count, dtype: int64\n",
      "\n",
      "Predicted class distribution:\n",
      "0    100\n",
      "Name: count, dtype: int64\n",
      "\n",
      "CRITICAL: Model is only predicting one class!\n"
     ]
    }
   ],
   "source": [
    "import numpy as np\n",
    "# First, let's see what the model is actually predicting\n",
    "print(\"Actual class distribution in y_test:\")\n",
    "print(pd.Series(y_test).value_counts())\n",
    "\n",
    "print(\"\\nPredicted class distribution:\")\n",
    "print(pd.Series(y_pred).value_counts())\n",
    "\n",
    "# Check if we have any predictions for the minority class\n",
    "if len(np.unique(y_pred)) < 2:\n",
    "    print(\"\\nCRITICAL: Model is only predicting one class!\")"
   ]
  },
  {
   "cell_type": "code",
   "execution_count": null,
   "id": "5cab5e5e-feea-40ae-8856-661afcf233df",
   "metadata": {},
   "outputs": [],
   "source": []
  },
  {
   "cell_type": "code",
   "execution_count": 35,
   "id": "e2251276-5dac-4874-944c-d65d4b716288",
   "metadata": {},
   "outputs": [
    {
     "name": "stdout",
     "output_type": "stream",
     "text": [
      "New predicted class distribution:\n",
      "0    54\n",
      "1    46\n",
      "Name: count, dtype: int64\n"
     ]
    }
   ],
   "source": [
    "# Creating the model with class weights\n",
    "model = LogisticRegression(random_state=42, max_iter=1000, \n",
    "                          class_weight='balanced')  # This tells the model to automatically balance classes\n",
    "\n",
    "# Retrain the model\n",
    "model.fit(X_train, y_train)\n",
    "\n",
    "# Make new predictions\n",
    "y_pred = model.predict(X_test)\n",
    "\n",
    "# Check the new predictions\n",
    "print(\"New predicted class distribution:\")\n",
    "print(pd.Series(y_pred).value_counts())"
   ]
  },
  {
   "cell_type": "raw",
   "id": "55a31406-ed64-4afe-a884-5906b969bb0a",
   "metadata": {},
   "source": [
    "# The class imbalance has been addressed by using class weights in the logistic regression model. \n",
    "# The model is now predicting both classes (54 non-defaulters and 46 defaulters), which is a significant improvement over the previous behavior of predicting only the majority class."
   ]
  },
  {
   "cell_type": "code",
   "execution_count": null,
   "id": "10575016-f0be-419a-a732-951c8740f85a",
   "metadata": {},
   "outputs": [],
   "source": []
  },
  {
   "cell_type": "raw",
   "id": "5c143854-f95c-47cd-b395-f2669790c904",
   "metadata": {},
   "source": [
    "# Generating a Comprehensive Evaluation Report"
   ]
  },
  {
   "cell_type": "code",
   "execution_count": 36,
   "id": "394eeac5-a20f-4f05-9f75-ef473decb720",
   "metadata": {},
   "outputs": [
    {
     "name": "stdout",
     "output_type": "stream",
     "text": [
      "Classification Report:\n",
      "              precision    recall  f1-score   support\n",
      "\n",
      "           0       0.83      0.55      0.66        82\n",
      "           1       0.20      0.50      0.28        18\n",
      "\n",
      "    accuracy                           0.54       100\n",
      "   macro avg       0.51      0.52      0.47       100\n",
      "weighted avg       0.72      0.54      0.59       100\n",
      "\n"
     ]
    },
    {
     "data": {
      "image/png": "[encoded data removed]",
      "text/plain": [
       "<Figure size 640x480 with 2 Axes>"
      ]
     },
     "metadata": {},
     "output_type": "display_data"
    },
    {
     "name": "stdout",
     "output_type": "stream",
     "text": [
      "Model Accuracy: 54.00%\n"
     ]
    }
   ],
   "source": [
    "# Generate a detailed classification report\n",
    "\n",
    "print(\"Classification Report:\")\n",
    "print(classification_report(y_test, y_pred))\n",
    "\n",
    "# Create and plot the confusion matrix\n",
    "\n",
    "import matplotlib.pyplot as plt\n",
    "cm = confusion_matrix(y_test, y_pred)\n",
    "disp = ConfusionMatrixDisplay(confusion_matrix=cm, display_labels=['Non-Defaulter', 'Defaulter'])\n",
    "disp.plot(cmap='Blues')\n",
    "plt.title('Confusion Matrix - Loan Default Prediction')\n",
    "plt.show()\n",
    "\n",
    "# Calculate and print accuracy\n",
    "accuracy = model.score(X_test, y_test)\n",
    "print(f\"Model Accuracy: {accuracy:.2%}\")\n"
   ]
  },
  {
   "cell_type": "code",
   "execution_count": null,
   "id": "4951c642-5637-4cb9-8bf2-aa77ee50dbf5",
   "metadata": {},
   "outputs": [],
   "source": []
  },
  {
   "cell_type": "raw",
   "id": "1d7a1936-cd8d-4c52-9490-63c6c13bd66f",
   "metadata": {},
   "source": [
    "# INTERPRETING THE RESULTS\n",
    "\n",
    "- 54% accuracy is low. This is a clear sign that predicting loan defaults with this dataset and model is very difficult.\n"
   ]
  },
  {
   "cell_type": "code",
   "execution_count": null,
   "id": "d23585e4-c21d-48ef-baed-521c896203b7",
   "metadata": {},
   "outputs": [],
   "source": []
  },
  {
   "cell_type": "raw",
   "id": "f16a9627-40c4-491d-a8a5-a363a5781641",
   "metadata": {},
   "source": [
    "# Logistic Regression model with Random Forest Classifier"
   ]
  },
  {
   "cell_type": "code",
   "execution_count": 40,
   "id": "d4fc163f-1b66-4f55-b401-247007fde6f9",
   "metadata": {},
   "outputs": [
    {
     "name": "stdout",
     "output_type": "stream",
     "text": [
      "Random Forest Classification Report:\n",
      "              precision    recall  f1-score   support\n",
      "\n",
      "           0       0.83      0.90      0.87        82\n",
      "           1       0.27      0.17      0.21        18\n",
      "\n",
      "    accuracy                           0.77       100\n",
      "   macro avg       0.55      0.53      0.54       100\n",
      "weighted avg       0.73      0.77      0.75       100\n",
      "\n"
     ]
    }
   ],
   "source": [
    "from sklearn.ensemble import RandomForestClassifier\n",
    "\n",
    "# Random Forest with class weighting\n",
    "rf_model = RandomForestClassifier(\n",
    "    n_estimators=100,\n",
    "    random_state=42,\n",
    "    class_weight='balanced',  # Handle imbalance\n",
    "    max_depth=5  # Prevent overfitting\n",
    ")\n",
    "rf_model.fit(X_train, y_train)\n",
    "\n",
    "# Evaluate\n",
    "y_pred_rf = rf_model.predict(X_test)\n",
    "print(\"Random Forest Classification Report:\")\n",
    "print(classification_report(y_test, y_pred_rf))\n"
   ]
  },
  {
   "cell_type": "code",
   "execution_count": 42,
   "id": "5323e322-b435-4a46-aaa9-0f2cb85871bf",
   "metadata": {},
   "outputs": [
    {
     "name": "stdout",
     "output_type": "stream",
     "text": [
      "Adjusted Threshold Classification Report (0.3):\n",
      "              precision    recall  f1-score   support\n",
      "\n",
      "           0       0.93      0.16      0.27        82\n",
      "           1       0.20      0.94      0.33        18\n",
      "\n",
      "    accuracy                           0.30       100\n",
      "   macro avg       0.56      0.55      0.30       100\n",
      "weighted avg       0.80      0.30      0.28       100\n",
      "\n"
     ]
    }
   ],
   "source": [
    "# Get prediction probabilities instead of final predictions\n",
    "y_pred_proba = rf_model.predict_proba(X_test)[:, 1]  # Probability of default\n",
    "\n",
    "# Experiment with different thresholds (default is 0.5)\n",
    "threshold = 0.3  # Lower threshold = predict default more easily\n",
    "y_pred_adjusted = (y_pred_proba >= threshold).astype(int)\n",
    "\n",
    "print(\"Adjusted Threshold Classification Report (0.3):\")\n",
    "print(classification_report(y_test, y_pred_adjusted))"
   ]
  },
  {
   "cell_type": "code",
   "execution_count": 41,
   "id": "a79c5d38-aba0-4589-baa1-a79643de6429",
   "metadata": {},
   "outputs": [
    {
     "name": "stdout",
     "output_type": "stream",
     "text": [
      "Top 10 Most Important Features:\n",
      "             feature  importance\n",
      "2        Loan_Amount    0.306166\n",
      "0             Income    0.276606\n",
      "1       Credit_Score    0.240976\n",
      "3  Previous_Defaults    0.058132\n",
      "4    Age_Group_26-35    0.046062\n",
      "7      Age_Group_66+    0.029432\n",
      "5    Age_Group_36-50    0.025597\n",
      "6    Age_Group_51-65    0.017028\n"
     ]
    },
    {
     "data": {
      "image/png": "[encoded data removed]",
      "text/plain": [
       "<Figure size 1000x600 with 1 Axes>"
      ]
     },
     "metadata": {},
     "output_type": "display_data"
    }
   ],
   "source": [
    "# Get feature importance\n",
    "feature_importance = pd.DataFrame({\n",
    "    'feature': X_train.columns,\n",
    "    'importance': rf_model.feature_importances_\n",
    "}).sort_values('importance', ascending=False)\n",
    "\n",
    "print(\"Top 10 Most Important Features:\")\n",
    "print(feature_importance.head(10))\n",
    "\n",
    "# Plot it\n",
    "plt.figure(figsize=(10, 6))\n",
    "plt.barh(feature_importance['feature'][:10], feature_importance['importance'][:10])\n",
    "plt.xlabel('Importance')\n",
    "plt.title('Top 10 Features for Predicting Default')\n",
    "plt.tight_layout()\n",
    "plt.show()"
   ]
  },
  {
   "cell_type": "code",
   "execution_count": 43,
   "id": "6ee8e166-b315-47db-80df-4438099405ba",
   "metadata": {},
   "outputs": [
    {
     "name": "stdout",
     "output_type": "stream",
     "text": [
      "False Negatives (Missed Defaulters): 15\n",
      "       Income  Credit_Score  Loan_Amount  Probability_Default\n",
      "104  134049.0         498.0      11430.0             0.288670\n",
      "124   54674.0         619.0      46568.0             0.301425\n",
      "9    137520.0         432.0      12446.0             0.378581\n",
      "406  134074.0         562.0      32523.0             0.420436\n",
      "408  120978.0         407.0      16005.0             0.475423\n"
     ]
    }
   ],
   "source": [
    "# Create a DataFrame of the test set with predictions\n",
    "results_df = X_test.copy()\n",
    "results_df['Actual'] = y_test\n",
    "results_df['Predicted'] = y_pred_rf\n",
    "results_df['Probability_Default'] = rf_model.predict_proba(X_test)[:, 1]\n",
    "\n",
    "# Look at the false negatives (dangerous mistakes - actual defaulters predicted as safe)\n",
    "false_negatives = results_df[(results_df['Actual'] == 1) & (results_df['Predicted'] == 0)]\n",
    "print(\"False Negatives (Missed Defaulters):\", len(false_negatives))\n",
    "print(false_negatives[['Income', 'Credit_Score', 'Loan_Amount', 'Probability_Default']].head())"
   ]
  },
  {
   "cell_type": "code",
   "execution_count": null,
   "id": "bf9fbb17-645e-4763-8662-fc415611c444",
   "metadata": {},
   "outputs": [],
   "source": []
  },
  {
   "cell_type": "raw",
   "id": "3657f048-fbb6-4550-80b4-4f401607902a",
   "metadata": {},
   "source": [
    "# Logistic Regression model with XGBoost Classifier"
   ]
  },
  {
   "cell_type": "code",
   "execution_count": 44,
   "id": "90591de9-2545-4f5b-b8c4-cde71afad033",
   "metadata": {},
   "outputs": [
    {
     "name": "stderr",
     "output_type": "stream",
     "text": [
      "C:\\Users\\hp\\anaconda3\\Lib\\site-packages\\xgboost\\training.py:183: UserWarning: [16:53:30] WARNING: C:\\actions-runner\\_work\\xgboost\\xgboost\\src\\learner.cc:738: \n",
      "Parameters: { \"use_label_encoder\" } are not used.\n",
      "\n",
      "  bst.update(dtrain, iteration=i, fobj=obj)\n"
     ]
    },
    {
     "name": "stdout",
     "output_type": "stream",
     "text": [
      "XGBoost Classification Report:\n",
      "              precision    recall  f1-score   support\n",
      "\n",
      "           0       0.83      0.89      0.86        82\n",
      "           1       0.25      0.17      0.20        18\n",
      "\n",
      "    accuracy                           0.76       100\n",
      "   macro avg       0.54      0.53      0.53       100\n",
      "weighted avg       0.73      0.76      0.74       100\n",
      "\n"
     ]
    }
   ],
   "source": [
    "from xgboost import XGBClassifier\n",
    "\n",
    "# XGBoost has parameters specifically for imbalance\n",
    "xgb_model = XGBClassifier(\n",
    "    random_state=42,\n",
    "    scale_pos_weight=(len(y_train) - sum(y_train)) / sum(y_train),  # Handles imbalance\n",
    "    eval_metric='logloss',\n",
    "    use_label_encoder=False\n",
    ")\n",
    "xgb_model.fit(X_train, y_train)\n",
    "\n",
    "y_pred_xgb = xgb_model.predict(X_test)\n",
    "print(\"XGBoost Classification Report:\")\n",
    "print(classification_report(y_test, y_pred_xgb))"
   ]
  },
  {
   "cell_type": "code",
   "execution_count": 123,
   "id": "8da687d0-7bd1-42f7-ab2c-1de9cb792cde",
   "metadata": {},
   "outputs": [
    {
     "name": "stdout",
     "output_type": "stream",
     "text": [
      "\n",
      "Threshold: 0.2\n",
      "              precision    recall  f1-score   support\n",
      "\n",
      "           0       0.81      0.74      0.78        82\n",
      "           1       0.16      0.22      0.19        18\n",
      "\n",
      "    accuracy                           0.65       100\n",
      "   macro avg       0.49      0.48      0.48       100\n",
      "weighted avg       0.70      0.65      0.67       100\n",
      "\n",
      "False Positives (good customers rejected): 21\n",
      "False Negatives (defaulters missed): 14\n",
      "\n",
      "Threshold: 0.3\n",
      "              precision    recall  f1-score   support\n",
      "\n",
      "           0       0.83      0.84      0.84        82\n",
      "           1       0.24      0.22      0.23        18\n",
      "\n",
      "    accuracy                           0.73       100\n",
      "   macro avg       0.53      0.53      0.53       100\n",
      "weighted avg       0.72      0.73      0.73       100\n",
      "\n",
      "False Positives (good customers rejected): 13\n",
      "False Negatives (defaulters missed): 14\n",
      "\n",
      "Threshold: 0.4\n",
      "              precision    recall  f1-score   support\n",
      "\n",
      "           0       0.84      0.87      0.85        82\n",
      "           1       0.27      0.22      0.24        18\n",
      "\n",
      "    accuracy                           0.75       100\n",
      "   macro avg       0.55      0.54      0.55       100\n",
      "weighted avg       0.73      0.75      0.74       100\n",
      "\n",
      "False Positives (good customers rejected): 11\n",
      "False Negatives (defaulters missed): 14\n",
      "\n",
      "Threshold: 0.5\n",
      "              precision    recall  f1-score   support\n",
      "\n",
      "           0       0.83      0.89      0.86        82\n",
      "           1       0.25      0.17      0.20        18\n",
      "\n",
      "    accuracy                           0.76       100\n",
      "   macro avg       0.54      0.53      0.53       100\n",
      "weighted avg       0.73      0.76      0.74       100\n",
      "\n",
      "False Positives (good customers rejected): 9\n",
      "False Negatives (defaulters missed): 15\n"
     ]
    }
   ],
   "source": [
    "# Get prediction probabilities from your best model (XGBoost or Random Forest)\n",
    "y_pred_proba = xgb_model.predict_proba(X_test)[:, 1]  # Probability of default\n",
    "\n",
    "# Try different thresholds\n",
    "for threshold in [0.2, 0.3, 0.4, 0.5]:\n",
    "    y_pred_adjusted = (y_pred_proba >= threshold).astype(int)\n",
    "    print(f\"\\nThreshold: {threshold}\")\n",
    "    print(classification_report(y_test, y_pred_adjusted))\n",
    "    \n",
    "    # Calculate business impact\n",
    "    tn, fp, fn, tp = confusion_matrix(y_test, y_pred_adjusted).ravel()\n",
    "    print(f\"False Positives (good customers rejected): {fp}\")\n",
    "    print(f\"False Negatives (defaulters missed): {fn}\")"
   ]
  },
  {
   "cell_type": "code",
   "execution_count": 114,
   "id": "32162d7c-ed18-48b3-ad98-364a9e7539d0",
   "metadata": {},
   "outputs": [
    {
     "name": "stdout",
     "output_type": "stream",
     "text": [
      "Top 10 Most Important Features:\n",
      "             feature  importance\n",
      "4    Age_Group_26-35    0.226293\n",
      "7      Age_Group_66+    0.150886\n",
      "0             Income    0.120981\n",
      "2        Loan_Amount    0.120917\n",
      "3  Previous_Defaults    0.109783\n",
      "1       Credit_Score    0.108804\n",
      "6    Age_Group_51-65    0.087278\n",
      "5    Age_Group_36-50    0.075059\n"
     ]
    },
    {
     "data": {
      "image/png": "[encoded data removed]",
      "text/plain": [
       "<Figure size 1000x600 with 1 Axes>"
      ]
     },
     "metadata": {},
     "output_type": "display_data"
    }
   ],
   "source": [
    "# For XGBoost\n",
    "feature_importance = pd.DataFrame({\n",
    "    'feature': X_train.columns,\n",
    "    'importance': xgb_model.feature_importances_\n",
    "}).sort_values('importance', ascending=False)\n",
    "\n",
    "print(\"Top 10 Most Important Features:\")\n",
    "print(feature_importance.head(10))\n",
    "\n",
    "# Plot feature importance\n",
    "plt.figure(figsize=(10, 6))\n",
    "plt.barh(feature_importance['feature'][:10], feature_importance['importance'][:10])\n",
    "plt.xlabel('Importance')\n",
    "plt.title('Top 10 Features for Predicting Default')\n",
    "plt.tight_layout()\n",
    "plt.show()"
   ]
  },
  {
   "cell_type": "code",
   "execution_count": 116,
   "id": "975c3c79-e471-4315-a0dc-97c959b51dc8",
   "metadata": {},
   "outputs": [],
   "source": [
    "# Assuming missing a defaulter is 5x more costly than a false alarm\n",
    "cost_matrix = [\n",
    "    [0, 1],  # Cost of true negative, false positive\n",
    "    [5, 0]   # Cost of false negative, true positive\n",
    "]\n",
    "\n",
    "# You would need to use a model that supports cost-sensitive learning\n",
    "# Or manually adjust class weights based on this cost matrix"
   ]
  },
  {
   "cell_type": "code",
   "execution_count": 119,
   "id": "459ef271-e3a6-4ecc-be64-ef7cdf5e7490",
   "metadata": {},
   "outputs": [
    {
     "name": "stdout",
     "output_type": "stream",
     "text": [
      "False Negatives Analysis (Actual defaulters predicted as safe):\n",
      "              Income  Credit_Score   Loan_Amount  Previous_Defaults  Actual  \\\n",
      "count       9.000000      9.000000      9.000000           9.000000     9.0   \n",
      "mean    91130.777778    553.333333  35744.444444           1.111111     1.0   \n",
      "std     39718.781382    149.657943  11708.539385           0.781736     0.0   \n",
      "min     21605.000000    321.000000  11430.000000           0.000000     1.0   \n",
      "25%     75123.000000    498.000000  28705.000000           1.000000     1.0   \n",
      "50%     84398.000000    562.000000  40298.000000           1.000000     1.0   \n",
      "75%    134049.000000    619.000000  42947.000000           2.000000     1.0   \n",
      "max    136553.000000    834.000000  48285.000000           2.000000     1.0   \n",
      "\n",
      "       Predicted  Default_Probability  \n",
      "count        9.0             9.000000  \n",
      "mean         0.0             0.165104  \n",
      "std          0.0             0.236580  \n",
      "min          0.0             0.002246  \n",
      "25%          0.0             0.040419  \n",
      "50%          0.0             0.055239  \n",
      "75%          0.0             0.096342  \n",
      "max          0.0             0.664061  \n",
      "\n",
      "True Positives Analysis (Correctly predicted defaulters):\n",
      "              Income  Credit_Score   Loan_Amount  Previous_Defaults  Actual  \\\n",
      "count       9.000000      9.000000      9.000000           9.000000     9.0   \n",
      "mean    87035.555556    564.333333  16553.444444           0.444444     1.0   \n",
      "std     45967.720386    149.346075   6699.323419           0.726483     0.0   \n",
      "min     25408.000000    407.000000   9795.000000           0.000000     1.0   \n",
      "25%     37260.000000    442.000000  12710.000000           0.000000     1.0   \n",
      "50%    116809.000000    507.000000  14067.000000           0.000000     1.0   \n",
      "75%    120978.000000    623.000000  16329.000000           1.000000     1.0   \n",
      "max    137520.000000    847.000000  30860.000000           2.000000     1.0   \n",
      "\n",
      "       Predicted  Default_Probability  \n",
      "count        9.0             9.000000  \n",
      "mean         1.0             0.216431  \n",
      "std          0.0             0.343649  \n",
      "min          1.0             0.002081  \n",
      "25%          1.0             0.010035  \n",
      "50%          1.0             0.027791  \n",
      "75%          1.0             0.189864  \n",
      "max          1.0             0.882034  \n"
     ]
    }
   ],
   "source": [
    "# Create a results dataframe\n",
    "results_df = X_test.copy()\n",
    "results_df['Actual'] = y_test\n",
    "results_df['Predicted'] = y_pred\n",
    "results_df['Default_Probability'] = y_pred_proba\n",
    "\n",
    "# Analyze false negatives (the most costly errors)\n",
    "false_negatives = results_df[(results_df['Actual'] == 1) & (results_df['Predicted'] == 0)]\n",
    "print(\"False Negatives Analysis (Actual defaulters predicted as safe):\")\n",
    "print(false_negatives.describe())\n",
    "\n",
    "# Compare with true positives\n",
    "true_positives = results_df[(results_df['Actual'] == 1) & (results_df['Predicted'] == 1)]\n",
    "print(\"\\nTrue Positives Analysis (Correctly predicted defaulters):\")\n",
    "print(true_positives.describe())"
   ]
  },
  {
   "cell_type": "code",
   "execution_count": null,
   "id": "416470b2-27a5-43f7-9da4-605f984d465a",
   "metadata": {},
   "outputs": [],
   "source": []
  },
  {
   "cell_type": "raw",
   "id": "c772792c-5874-41f2-b88a-deb88e8159dd",
   "metadata": {},
   "source": [
    "# How does spending behavior (spending score) relate to income and creditworthiness?\n",
    "# Multiple Linear Regression to predict spending behaviour based on income spend and credit score"
   ]
  },
  {
   "cell_type": "code",
   "execution_count": null,
   "id": "14b4a502-ef09-4189-8559-81f09d7aaeb4",
   "metadata": {},
   "outputs": [],
   "source": [
    "import pandas as pd\n",
    "from sklearn.linear_model import LinearRegression\n",
    "X = risk_analysis[['Income', 'Credit_Score']]\n",
    "y = risk_analysis['Spending_Score']\n",
    "model = LinearRegression ()\n",
    "model.fit(X, y)\n",
    "print(model.coef_, model.intercept_)\n"
   ]
  },
  {
   "cell_type": "raw",
   "id": "91dac1e5-5b77-4f04-8323-ff0f7ad6c158",
   "metadata": {},
   "source": [
    "# The multiple linear regression (MLR) model is:\n",
    "Spending Behaviour = 50.1481 + (-4.7341 * Income) + (8.2135 * Credit Score)\n",
    "\n",
    "# Interpreting the coefficients:\n",
    "\n",
    "A moderate negative correlation exists between income and spending (borrowing) behavior. Thus, for each additional increase in income, customer borrowing behavior decreases by 4.7341 units, assuming the credit score remains constant. This indicates that a rise in income does not necessarily lead to an increase in client borrowing.\n",
    "\n",
    "On the other hand, a very strong positive relationship is evident between credit score and spending behavior. The analysis indicates that for every one-unit increase in credit score, customer borrowing behavior increases by 8.2135 units, provided income remains constant. This suggests that customers with higher credit scores tend to borrow more, and vice versa.\n"
   ]
  },
  {
   "cell_type": "code",
   "execution_count": null,
   "id": "7c761391-3dc0-4d25-ba09-b1f0e137e817",
   "metadata": {},
   "outputs": [],
   "source": []
  },
  {
   "cell_type": "code",
   "execution_count": 124,
   "id": "65990bba-1ce8-42c4-8ead-db228ab05300",
   "metadata": {},
   "outputs": [
    {
     "data": {
      "text/html": [
       "<div>\n",
       "<style scoped>\n",
       "    .dataframe tbody tr th:only-of-type {\n",
       "        vertical-align: middle;\n",
       "    }\n",
       "\n",
       "    .dataframe tbody tr th {\n",
       "        vertical-align: top;\n",
       "    }\n",
       "\n",
       "    .dataframe thead th {\n",
       "        text-align: right;\n",
       "    }\n",
       "</style>\n",
       "<table border=\"1\" class=\"dataframe\">\n",
       "  <thead>\n",
       "    <tr style=\"text-align: right;\">\n",
       "      <th></th>\n",
       "      <th>Customer_ID</th>\n",
       "      <th>Age</th>\n",
       "      <th>Gender</th>\n",
       "      <th>Income</th>\n",
       "      <th>Spending_Score</th>\n",
       "      <th>Credit_Score</th>\n",
       "      <th>Loan_Amount</th>\n",
       "      <th>Previous_Defaults</th>\n",
       "      <th>Marketing_Spend</th>\n",
       "      <th>Purchase_Frequency</th>\n",
       "      <th>Seasonality</th>\n",
       "      <th>Sales</th>\n",
       "      <th>Customer_Churn</th>\n",
       "      <th>Defaulted</th>\n",
       "    </tr>\n",
       "  </thead>\n",
       "  <tbody>\n",
       "    <tr>\n",
       "      <th>0</th>\n",
       "      <td>1</td>\n",
       "      <td>56</td>\n",
       "      <td>Female</td>\n",
       "      <td>142418.0</td>\n",
       "      <td>7</td>\n",
       "      <td>391.0</td>\n",
       "      <td>8083.0</td>\n",
       "      <td>1</td>\n",
       "      <td>15376</td>\n",
       "      <td>3</td>\n",
       "      <td>Low</td>\n",
       "      <td>32526</td>\n",
       "      <td>0</td>\n",
       "      <td>0</td>\n",
       "    </tr>\n",
       "    <tr>\n",
       "      <th>1</th>\n",
       "      <td>2</td>\n",
       "      <td>69</td>\n",
       "      <td>Male</td>\n",
       "      <td>63088.0</td>\n",
       "      <td>82</td>\n",
       "      <td>652.0</td>\n",
       "      <td>34328.0</td>\n",
       "      <td>2</td>\n",
       "      <td>6889</td>\n",
       "      <td>6</td>\n",
       "      <td>Low</td>\n",
       "      <td>78493</td>\n",
       "      <td>0</td>\n",
       "      <td>0</td>\n",
       "    </tr>\n",
       "    <tr>\n",
       "      <th>2</th>\n",
       "      <td>3</td>\n",
       "      <td>46</td>\n",
       "      <td>Male</td>\n",
       "      <td>136868.0</td>\n",
       "      <td>91</td>\n",
       "      <td>662.0</td>\n",
       "      <td>47891.0</td>\n",
       "      <td>2</td>\n",
       "      <td>6054</td>\n",
       "      <td>29</td>\n",
       "      <td>Medium</td>\n",
       "      <td>57198</td>\n",
       "      <td>1</td>\n",
       "      <td>0</td>\n",
       "    </tr>\n",
       "    <tr>\n",
       "      <th>3</th>\n",
       "      <td>4</td>\n",
       "      <td>32</td>\n",
       "      <td>Female</td>\n",
       "      <td>NaN</td>\n",
       "      <td>34</td>\n",
       "      <td>644.0</td>\n",
       "      <td>25103.0</td>\n",
       "      <td>2</td>\n",
       "      <td>4868</td>\n",
       "      <td>8</td>\n",
       "      <td>Medium</td>\n",
       "      <td>48395</td>\n",
       "      <td>0</td>\n",
       "      <td>0</td>\n",
       "    </tr>\n",
       "    <tr>\n",
       "      <th>4</th>\n",
       "      <td>5</td>\n",
       "      <td>60</td>\n",
       "      <td>Male</td>\n",
       "      <td>59811.0</td>\n",
       "      <td>91</td>\n",
       "      <td>469.0</td>\n",
       "      <td>44891.0</td>\n",
       "      <td>1</td>\n",
       "      <td>17585</td>\n",
       "      <td>12</td>\n",
       "      <td>High</td>\n",
       "      <td>29031</td>\n",
       "      <td>1</td>\n",
       "      <td>0</td>\n",
       "    </tr>\n",
       "    <tr>\n",
       "      <th>...</th>\n",
       "      <td>...</td>\n",
       "      <td>...</td>\n",
       "      <td>...</td>\n",
       "      <td>...</td>\n",
       "      <td>...</td>\n",
       "      <td>...</td>\n",
       "      <td>...</td>\n",
       "      <td>...</td>\n",
       "      <td>...</td>\n",
       "      <td>...</td>\n",
       "      <td>...</td>\n",
       "      <td>...</td>\n",
       "      <td>...</td>\n",
       "      <td>...</td>\n",
       "    </tr>\n",
       "    <tr>\n",
       "      <th>495</th>\n",
       "      <td>496</td>\n",
       "      <td>65</td>\n",
       "      <td>Male</td>\n",
       "      <td>69688.0</td>\n",
       "      <td>6</td>\n",
       "      <td>602.0</td>\n",
       "      <td>20261.0</td>\n",
       "      <td>2</td>\n",
       "      <td>7420</td>\n",
       "      <td>17</td>\n",
       "      <td>High</td>\n",
       "      <td>43134</td>\n",
       "      <td>0</td>\n",
       "      <td>0</td>\n",
       "    </tr>\n",
       "    <tr>\n",
       "      <th>496</th>\n",
       "      <td>497</td>\n",
       "      <td>42</td>\n",
       "      <td>Female</td>\n",
       "      <td>119929.0</td>\n",
       "      <td>88</td>\n",
       "      <td>610.0</td>\n",
       "      <td>6431.0</td>\n",
       "      <td>2</td>\n",
       "      <td>12837</td>\n",
       "      <td>27</td>\n",
       "      <td>Medium</td>\n",
       "      <td>32323</td>\n",
       "      <td>0</td>\n",
       "      <td>0</td>\n",
       "    </tr>\n",
       "    <tr>\n",
       "      <th>497</th>\n",
       "      <td>498</td>\n",
       "      <td>57</td>\n",
       "      <td>Female</td>\n",
       "      <td>128618.0</td>\n",
       "      <td>19</td>\n",
       "      <td>507.0</td>\n",
       "      <td>14067.0</td>\n",
       "      <td>0</td>\n",
       "      <td>7353</td>\n",
       "      <td>17</td>\n",
       "      <td>Medium</td>\n",
       "      <td>76762</td>\n",
       "      <td>0</td>\n",
       "      <td>1</td>\n",
       "    </tr>\n",
       "    <tr>\n",
       "      <th>498</th>\n",
       "      <td>499</td>\n",
       "      <td>62</td>\n",
       "      <td>Male</td>\n",
       "      <td>93509.0</td>\n",
       "      <td>80</td>\n",
       "      <td>745.0</td>\n",
       "      <td>42481.0</td>\n",
       "      <td>0</td>\n",
       "      <td>11541</td>\n",
       "      <td>12</td>\n",
       "      <td>High</td>\n",
       "      <td>92225</td>\n",
       "      <td>0</td>\n",
       "      <td>0</td>\n",
       "    </tr>\n",
       "    <tr>\n",
       "      <th>499</th>\n",
       "      <td>500</td>\n",
       "      <td>18</td>\n",
       "      <td>Female</td>\n",
       "      <td>28577.0</td>\n",
       "      <td>40</td>\n",
       "      <td>354.0</td>\n",
       "      <td>NaN</td>\n",
       "      <td>1</td>\n",
       "      <td>2932</td>\n",
       "      <td>7</td>\n",
       "      <td>Low</td>\n",
       "      <td>30954</td>\n",
       "      <td>1</td>\n",
       "      <td>0</td>\n",
       "    </tr>\n",
       "  </tbody>\n",
       "</table>\n",
       "<p>500 rows × 14 columns</p>\n",
       "</div>"
      ],
      "text/plain": [
       "     Customer_ID  Age  Gender    Income  Spending_Score  Credit_Score  \\\n",
       "0              1   56  Female  142418.0               7         391.0   \n",
       "1              2   69    Male   63088.0              82         652.0   \n",
       "2              3   46    Male  136868.0              91         662.0   \n",
       "3              4   32  Female       NaN              34         644.0   \n",
       "4              5   60    Male   59811.0              91         469.0   \n",
       "..           ...  ...     ...       ...             ...           ...   \n",
       "495          496   65    Male   69688.0               6         602.0   \n",
       "496          497   42  Female  119929.0              88         610.0   \n",
       "497          498   57  Female  128618.0              19         507.0   \n",
       "498          499   62    Male   93509.0              80         745.0   \n",
       "499          500   18  Female   28577.0              40         354.0   \n",
       "\n",
       "     Loan_Amount  Previous_Defaults  Marketing_Spend  Purchase_Frequency  \\\n",
       "0         8083.0                  1            15376                   3   \n",
       "1        34328.0                  2             6889                   6   \n",
       "2        47891.0                  2             6054                  29   \n",
       "3        25103.0                  2             4868                   8   \n",
       "4        44891.0                  1            17585                  12   \n",
       "..           ...                ...              ...                 ...   \n",
       "495      20261.0                  2             7420                  17   \n",
       "496       6431.0                  2            12837                  27   \n",
       "497      14067.0                  0             7353                  17   \n",
       "498      42481.0                  0            11541                  12   \n",
       "499          NaN                  1             2932                   7   \n",
       "\n",
       "    Seasonality  Sales  Customer_Churn  Defaulted  \n",
       "0           Low  32526               0          0  \n",
       "1           Low  78493               0          0  \n",
       "2        Medium  57198               1          0  \n",
       "3        Medium  48395               0          0  \n",
       "4          High  29031               1          0  \n",
       "..          ...    ...             ...        ...  \n",
       "495        High  43134               0          0  \n",
       "496      Medium  32323               0          0  \n",
       "497      Medium  76762               0          1  \n",
       "498        High  92225               0          0  \n",
       "499         Low  30954               1          0  \n",
       "\n",
       "[500 rows x 14 columns]"
      ]
     },
     "execution_count": 124,
     "metadata": {},
     "output_type": "execute_result"
    }
   ],
   "source": [
    "import pandas as pd\n",
    "\n",
    "risk_analysis = pd.read_csv(r\"C:\\Users\\hp\\OneDrive\\Projects\\Victoria Solutions\\raw_dataset_week4.csv\")\n",
    "risk_analysis"
   ]
  },
  {
   "cell_type": "code",
   "execution_count": null,
   "id": "6922b1e8-07e7-491f-bacf-ca147b06f8a1",
   "metadata": {},
   "outputs": [],
   "source": []
  },
  {
   "cell_type": "raw",
   "id": "fe2e3bac-f608-4940-b754-ad7f9a27ae8d",
   "metadata": {},
   "source": [
    "# CUSTOMER CHURN ANALYSIS \n",
    "# Why are customers leaving? What patterns distinguish customers who churn from those who stay?\n",
    "\n",
    "# Calculating and plotting the churn rate"
   ]
  },
  {
   "cell_type": "code",
   "execution_count": 10,
   "id": "6b426df8-1340-4510-83c0-fa51af76c8e8",
   "metadata": {},
   "outputs": [
    {
     "name": "stdout",
     "output_type": "stream",
     "text": [
      "Overall Churn Rate: 25.40%\n"
     ]
    },
    {
     "data": {
      "image/png": "[encoded data removed]",
      "text/plain": [
       "<Figure size 600x400 with 1 Axes>"
      ]
     },
     "metadata": {},
     "output_type": "display_data"
    }
   ],
   "source": [
    "import pandas as pd\n",
    "import numpy as np\n",
    "import matplotlib.pyplot as plt\n",
    "import seaborn as sns\n",
    "\n",
    "churn_rate = risk_analysis['Customer_Churn'].mean() * 100\n",
    "print(f\"Overall Churn Rate: {churn_rate:.2f}%\")\n",
    "\n",
    "\n",
    "plt.figure(figsize=(6,4))\n",
    "ax = sns.countplot(x='Customer_Churn', data=risk_analysis)\n",
    "plt.title('Customer Churn Distribution')\n",
    "\n",
    "for p in ax.patches:\n",
    "    ax.annotate(f'{p.get_height():.0f}', \n",
    "                (p.get_x() + p.get_width() / 2., p.get_height()), \n",
    "                ha='center', va='bottom', \n",
    "                xytext=(0, 5), \n",
    "                textcoords='offset points',\n",
    "                fontsize=12)\n",
    "\n",
    "plt.show()"
   ]
  },
  {
   "cell_type": "raw",
   "id": "44a39430-ba69-4469-85c2-ff4b42ab89c1",
   "metadata": {},
   "source": [
    "Key Insights: \n",
    "    \n",
    "# The churn rate is 25.40%, which means that 25% of customers have left the company, totaling 127 customers. \n",
    "# Approximately 373 customers remain with the company. \n",
    "# A churn rate of 25.4% indicates that 1 in 4 customers are leaving, representing a significant risk to revenue. \n",
    "# This level of churn highlights an urgent need for effective retention strategies.\n",
    "# Common reasons for high churn rates include:\n",
    "•\tCompetitive pressure\n",
    "•\tPoor customer experience\n",
    "•\tPricing issues\n",
    "•\tProducts or services not meeting customer expectations\n",
    "\n",
    "Recommendations:\n",
    "1.\tInvestigate primary reasons for churn through:\n",
    "•\tExit interviews\n",
    "•\tCustomer satisfaction surveys\n",
    "•\tUsage pattern analysis\n",
    "2.\tDevelop targeted retention programs for high-risk segments."
   ]
  },
  {
   "cell_type": "code",
   "execution_count": null,
   "id": "238b438e-99f3-4239-b197-e5ebe038118f",
   "metadata": {},
   "outputs": [],
   "source": []
  },
  {
   "cell_type": "raw",
   "id": "327d63f0-a78a-42c6-b7ad-268a7a33efed",
   "metadata": {},
   "source": [
    "# Comparing churn rates across various segments"
   ]
  },
  {
   "cell_type": "code",
   "execution_count": 16,
   "id": "424c99fa-d4c7-46a3-b9ce-28031472382b",
   "metadata": {},
   "outputs": [
    {
     "name": "stdout",
     "output_type": "stream",
     "text": [
      "Churn Rate by Age Group:\n",
      "Age_Group\n",
      "18-25    30.434783\n",
      "51-65    27.083333\n",
      "36-50    25.000000\n",
      "66+      21.428571\n",
      "26-35    17.808219\n",
      "Name: Customer_Churn, dtype: float64\n"
     ]
    },
    {
     "data": {
      "image/png": "[encoded data removed]",
      "text/plain": [
       "<Figure size 1000x600 with 1 Axes>"
      ]
     },
     "metadata": {},
     "output_type": "display_data"
    }
   ],
   "source": [
    "segment_churn = risk_analysis.groupby('Age_Group', observed=True)['Customer_Churn'].mean().sort_values(ascending=False) * 100\n",
    "\n",
    "print(\"Churn Rate by Age Group:\")\n",
    "print(segment_churn)\n",
    "\n",
    "# Optional: Plot the results\n",
    "plt.figure(figsize=(10,6))\n",
    "segment_churn.plot(kind='bar')\n",
    "plt.title('Churn Rate by Age Group')\n",
    "plt.ylabel('Churn Rate (%)')\n",
    "plt.xticks(rotation=45)\n",
    "plt.tight_layout()\n",
    "plt.show()\n"
   ]
  },
  {
   "cell_type": "code",
   "execution_count": null,
   "id": "3342ca91-cfb0-4078-8e70-726b0c1787c3",
   "metadata": {},
   "outputs": [],
   "source": [
    "Key Insights 🔍  \n",
    "Ranking of Churn Rates (Highest to Lowest):\n",
    "•\t18-25 years: 30.43% churn rate\n",
    "\n",
    "•\t51-65 years: 27.08% churn rate\n",
    "\n",
    "•\t36-50 years: 25.00% churn rate\n",
    "\n",
    "•\t66+ years: 21.43% churn rate\n",
    "\n",
    "•\t26-35 years: 17.81% churn rate\n",
    "\n",
    "Implications:  \n",
    "\n",
    "Young customers, particularly those aged 18 to 25, are the most likely to leave. This trend can be attributed to several factors, including financial instability, a desire to explore different options, a lack of loyalty, and significant life transitions such as college or starting their first job. \n",
    "In contrast, the most loyal customers tend to be in the age group of 26 to 35 years. This loyalty is often related to career stability, established banking relationships, and family financial responsibilities. \n",
    "Meanwhile, senior citizens, aged 66 and above, have a relatively low churn rate of 21%. They are generally more stable in their banking choices, as they are less likely to switch providers and often adhere to more traditional banking habits.\n",
    "\n",
    "Recommendations:\n",
    "18-25 Year Olds:\n",
    "•\tImplement financial education programs\n",
    "•\tCreate youth-focused products with flexibility\n",
    "•\tDevelop loyalty programs that reward long-term relationships\n",
    "•\tOffer digital-first banking experiences, such as mobile banking.\n",
    "51-65 Year Olds:\n",
    "•\tProvide retirement planning services\n",
    "•\tOffer debt consolidation options\n",
    "•\tCreate specialized pre-retirement advisory services\n",
    "•\tDevelop products tailored to empty-nesters\n"
   ]
  },
  {
   "cell_type": "code",
   "execution_count": null,
   "id": "2140eaab-8e08-4d41-a6e3-22b51fb740e6",
   "metadata": {},
   "outputs": [],
   "source": []
  },
  {
   "cell_type": "raw",
   "id": "07583d3e-57b3-4040-8ae8-21753c96dfb0",
   "metadata": {},
   "source": [
    "# Is there a relationship between loan approval amounts, credit score, and customer churn?\n",
    "# Analyzing Churn by Numerical Features (Income, Loan Amount, Credit Score)"
   ]
  },
  {
   "cell_type": "code",
   "execution_count": 23,
   "id": "8b8b9d64-5b8e-4761-8eac-f6ec183cd241",
   "metadata": {},
   "outputs": [
    {
     "data": {
      "image/png": "[encoded data removed]",
      "text/plain": [
       "<Figure size 1500x1000 with 6 Axes>"
      ]
     },
     "metadata": {},
     "output_type": "display_data"
    }
   ],
   "source": [
    "numerical_features = risk_analysis[['Income', 'Loan_Amount', 'Credit_Score', 'Age', 'Previous_Defaults']]\n",
    "\n",
    "\n",
    "fig, axes = plt.subplots(2, 3, figsize=(15, 10)) \n",
    "axes = axes.flat\n",
    "\n",
    "for i, col in enumerate(numerical_features):\n",
    "    if col in risk_analysis.columns:\n",
    "        sns.boxplot(x='Customer_Churn', y=col, data=risk_analysis, ax=axes[i])\n",
    "        axes[i].set_title(f'Churn vs. {col.title()}')\n",
    "\n",
    "\n",
    "for j in range(i+1, len(axes)):\n",
    "    axes[j].set_visible(False)\n",
    "\n",
    "plt.tight_layout()\n",
    "plt.show()\n"
   ]
  },
  {
   "cell_type": "code",
   "execution_count": null,
   "id": "727f6616-63ef-4877-a57a-f496f425076e",
   "metadata": {},
   "outputs": [],
   "source": []
  },
  {
   "cell_type": "raw",
   "id": "d6311675-3957-45bf-8317-346f97127e15",
   "metadata": {},
   "source": [
    "CUSTOMER SEGMENTATION FOR MARKETING"
   ]
  },
  {
   "cell_type": "raw",
   "id": "3a520eb2-1c29-4686-bfd5-97fe59c88987",
   "metadata": {},
   "source": [
    "How does marketing spend correlate with purchase frequency or new loan uptake? Is the marketing budget being spent effectively?"
   ]
  },
  {
   "cell_type": "code",
   "execution_count": 10,
   "id": "f3fc8960-3f37-422e-b3c1-1f521cd0e9a1",
   "metadata": {},
   "outputs": [
    {
     "name": "stdout",
     "output_type": "stream",
     "text": [
      "[-22.45374438] 10902.792976181343\n"
     ]
    }
   ],
   "source": [
    "import pandas as pd\n",
    "from sklearn.linear_model import LinearRegression\n",
    "X = risk_analysis[['Purchase_Frequency']]\n",
    "y = risk_analysis['Marketing_Spend']\n",
    "model = LinearRegression ()\n",
    "model.fit(X, y)\n",
    "print(model.coef_, model.intercept_)"
   ]
  },
  {
   "cell_type": "code",
   "execution_count": null,
   "id": "63d4cc94-cb48-451c-b37c-b42cc42f89aa",
   "metadata": {},
   "outputs": [],
   "source": []
  },
  {
   "cell_type": "code",
   "execution_count": null,
   "id": "bcb13089-d72a-4879-8f63-0d04c2a7060b",
   "metadata": {},
   "outputs": [],
   "source": []
  },
  {
   "cell_type": "code",
   "execution_count": null,
   "id": "f0f5e6a9-9417-41b5-b60b-bc09bafe15f6",
   "metadata": {},
   "outputs": [],
   "source": []
  },
  {
   "cell_type": "code",
   "execution_count": null,
   "id": "bafec6e2-074e-41b8-9bf2-69678ddb95df",
   "metadata": {},
   "outputs": [],
   "source": []
  }
 ],
 "metadata": {
  "kernelspec": {
   "display_name": "Python [conda env:base] *",
   "language": "python",
   "name": "conda-base-py"
  },
  "language_info": {
   "codemirror_mode": {
    "name": "ipython",
    "version": 3
   },
   "file_extension": ".py",
   "mimetype": "text/x-python",
   "name": "python",
   "nbconvert_exporter": "python",
   "pygments_lexer": "ipython3",
   "version": "3.13.5"
  }
 },
 "nbformat": 4,
 "nbformat_minor": 5
}
